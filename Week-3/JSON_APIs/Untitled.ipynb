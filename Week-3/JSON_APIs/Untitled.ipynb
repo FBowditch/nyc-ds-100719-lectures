{
 "cells": [
  {
   "cell_type": "markdown",
   "metadata": {},
   "source": [
    "COLLECTING ALL BUSINESSES"
   ]
  },
  {
   "cell_type": "code",
   "execution_count": 19,
   "metadata": {},
   "outputs": [],
   "source": [
    "headers = {'Authorization': 'Bearer {}'.format(api_key)}\n",
    "response = requests.get(url, headers=headers, params=url_params)\n",
    "client_id = \"kSJKHzaATCEw4bxY9tJGwA\"\n",
    "api_key = \"xZce1e9e3JthFVYS0eQm1Aa6thcOEaQ2N2hzi3PJsJrv6ga4hinQMYsPWTBYQYRikD7sN9H7HQJV9sDPBoIf-m2Ko-0rw5ouSZhGgUtQDYA5_5hEipYddHf7Ct2xXXYx\"\n"
   ]
  },
  {
   "cell_type": "code",
   "execution_count": 20,
   "metadata": {},
   "outputs": [],
   "source": [
    "import json\n",
    "import requests\n",
    "import time"
   ]
  },
  {
   "cell_type": "code",
   "execution_count": 21,
   "metadata": {},
   "outputs": [],
   "source": [
    "term = 'Plumbers'\n",
    "location = 'Bushwick NY'\n",
    "url_params = {  'term': term.replace(' ', '+'),\n",
    "                'location': location.replace(' ', '+'),\n",
    "                'limit' : 50,\n",
    "                'offset' : 0\n",
    "             }"
   ]
  },
  {
   "cell_type": "code",
   "execution_count": 22,
   "metadata": {},
   "outputs": [],
   "source": [
    "def yelp_call(url_params, api_key):\n",
    "    url = 'https://api.yelp.com/v3/businesses/search'\n",
    "    headers = {'Authorization': 'Bearer {}'.format(api_key)}\n",
    "    response = requests.get(url, headers=headers, params=url_params)\n",
    "    \n",
    "    data = response.json()['businesses']\n",
    "    return data\n",
    "\n",
    "def parse_id_results(results):\n",
    "        parsed_results = []\n",
    "        plumb_list = []\n",
    "        for result in results:\n",
    "            yelp_dict = {}\n",
    "            yelp_dict[\"biz_id\"] = result['id']\n",
    "            parsed_results.append(yelp_dict)\n",
    "        \n",
    "        for plumb in parsed_results:\n",
    "            plumb_tuple = (plumb['biz_id'])\n",
    "            plumb_list.append(plumb_tuple)\n",
    "        return plumb_list\n",
    "# def parse_results(results):\n",
    "#         parsed_results = []\n",
    "#         plumb_list = []\n",
    "#         for result in results:\n",
    "#             yelp_dict = {}\n",
    "#             yelp_dict[\"biz_id\"] = result['id']\n",
    "#             yelp_dict[\"biz_name\"] = result['name']\n",
    "#             yelp_dict[\"rating\"] = result['rating']\n",
    "#             yelp_dict[\"review_count\"] = result['review_count']\n",
    "#             parsed_results.append(yelp_dict)\n",
    "        \n",
    "#         for plumb in parsed_results:\n",
    "#             plumb_tuple = (plumb['biz_id'], plumb['biz_name'], \n",
    "#                      plumb['rating'], plumb['review_count'])\n",
    "#             plumb_list.append(plumb_tuple)\n",
    "#         return plumb_list\n",
    "    \n",
    "# def db_insert(data):\n",
    "#         insert_statement = \"INSERT INTO Plumb_biz (biz_id, biz_name, rating, review_count) VALUES (%s, %s, %s, %s)\"\n",
    "#         cursor.executemany(insert_statement, data)\n",
    "#         cnx.commit()\n",
    "  \n"
   ]
  },
  {
   "cell_type": "code",
   "execution_count": 27,
   "metadata": {},
   "outputs": [
    {
     "name": "stdout",
     "output_type": "stream",
     "text": [
      "437 total matches found.\n"
     ]
    }
   ],
   "source": [
    "num = response.json()['total']\n",
    "print('{} total matches found.'.format(num))\n",
    "cur = 0\n",
    "    \n",
    "while cur < num and cur < 1000:\n",
    "    id_results = []\n",
    "    url_params['offset'] = cur\n",
    "    results = yelp_call(url_params, api_key)\n",
    "    parsed_id_results = parse_id_results(results)\n",
    "    id_results.append(parsed_id_results)\n",
    "    time.sleep(1) #Wait a second\n",
    "    cur = 50 + cur"
   ]
  },
  {
   "cell_type": "code",
   "execution_count": 28,
   "metadata": {},
   "outputs": [
    {
     "data": {
      "text/plain": [
       "[['HAovQocy6YbMbV_IyiV39Q',\n",
       "  'o0WJDT2-EXDUFNtmQ2wEqA',\n",
       "  'Vq105fjgucPhAzVdjq1nSw',\n",
       "  '8sqtpndjbVSw3Stg508dIg',\n",
       "  'b4efA2_fP7KsPWhu5n4rRQ',\n",
       "  'QF9xq-M7KylekFE_ba7TmA',\n",
       "  'wHtueiaLn54AUbKrF_bh-w',\n",
       "  't5s-f2Y8kc6cDZTY76uXgA',\n",
       "  'pOCuiGKW_lOHpzQjEH4N1w',\n",
       "  '7HMPXOMFTa5FSsGyc5LXkw',\n",
       "  'S_Oi5h4Ul9QTCP76yUO4xw',\n",
       "  'pkp8eLJgzzSvGQJYRJKniA',\n",
       "  'v0BFp6BDPIdzNPTc2X0TCQ',\n",
       "  '1Sefmcnb_FdvQrsALgFEcQ',\n",
       "  'aoiapm41TVWtxGWVfn-jbg',\n",
       "  'egxgH55m32oG7onS26bP5w',\n",
       "  'oGsXD7Y1Sk4CTctjRwmBRg',\n",
       "  'UHVnG6pUuoHEyQfclK6QlQ',\n",
       "  'blegTLy0zPWqG43vcJXMQw',\n",
       "  'unhAxJO8uFdN064dEDRnnQ',\n",
       "  'lttNgQEJfRqY-ulkRt0kWw',\n",
       "  '4K7AoV3ERYL7T2allzERnA',\n",
       "  'D8oG3F6yeivarJxMS9LBmg',\n",
       "  '6CDlmLCFjVIFNvhp4Thm2A',\n",
       "  'PwD6T7__hQR_KSThDmpU7g',\n",
       "  'jrCzozcPZEdjXnKEGeNcdA',\n",
       "  '1pnxGWn5aOTV2LKjC91DAw',\n",
       "  'YBhJPxvWXAeWnmxhzctQPg',\n",
       "  'Wnom5MGEi0W4FgCvTjtflw',\n",
       "  'V9f8sDNed-euUjhKX8Wh0w',\n",
       "  'D8jfrVqFgoz_opwzB7DhSA',\n",
       "  'khegjriAzSEEYOZOwYF4fg',\n",
       "  'sU4WRHmmjS9Jg89wsv662A',\n",
       "  '4Zz720ccHd7_scM_dEFH8w',\n",
       "  'sj7o8xbpMpR_HsJAxr1Xgw',\n",
       "  'ACo6MbcsfJCy3CAmzPwr9A',\n",
       "  '5wVXlHH3YWcR_f5BRZ9-Eg']]"
      ]
     },
     "execution_count": 28,
     "metadata": {},
     "output_type": "execute_result"
    }
   ],
   "source": [
    "id_results"
   ]
  },
  {
   "cell_type": "code",
   "execution_count": 16,
   "metadata": {},
   "outputs": [],
   "source": [
    "def parse_id_results(results):\n",
    "        parsed_results = []\n",
    "        plumb_list = []\n",
    "        for result in results:\n",
    "            yelp_dict = {}\n",
    "            yelp_dict[\"biz_id\"] = result['id']\n",
    "            parsed_results.append(yelp_dict)\n",
    "        \n",
    "        for plumb in parsed_results:\n",
    "            plumb_tuple = (plumb['biz_id'])\n",
    "            plumb_list.append(plumb_tuple)\n",
    "        return plumb_list\n",
    "    \n",
    "    \n",
    "def parse_review_results(results):\n",
    "        parsed_results = []\n",
    "        rev_list = []\n",
    "        for result in results:\n",
    "            yelp_dict = {}\n",
    "            yelp_dict[\"rev_id\"] = result['id']\n",
    "            yelp_dict[\"rev_rating\"] = result['rating']\n",
    "            yelp_dict[\"name\"] = result['user']\n",
    "            yelp_dict[\"review_text\"] = result['text']\n",
    "            yelp_dict[\"rev_date\"] = result['time_created']\n",
    "            parsed_results.append(yelp_dict)\n",
    "        \n",
    "        for rev in parsed_results:\n",
    "            rev_tuple = (rev['rev_id'], rev['rev_rating'], rev['name'], rev['review_text'], rev['rev_date'])\n",
    "            rev_list.append(rev_tuple)\n",
    "        return rev_list"
   ]
  },
  {
   "cell_type": "code",
   "execution_count": 17,
   "metadata": {},
   "outputs": [],
   "source": [
    "def yelp_call_review(api_key, parsed_id_results):\n",
    "    reviews = []\n",
    "    for i in parsed_id_results:\n",
    "        url = ('https://api.yelp.com/v3/businesses/%s/reviews'% i)\n",
    "        headers = {'Authorization': 'Bearer {}'.format(api_key)}\n",
    "        response = requests.get(url, headers=headers, params=url_params)\n",
    "        data = response.json()['reviews']\n",
    "        reviews.extend(data)\n",
    "        time.sleep(5)\n",
    "    return data\n",
    "\n",
    "    \n",
    "def db_insert_reviews(data):\n",
    "        insert_statement = \"INSERT INTO Plumb_Reviews (rev_id, rev_rating, name, review_text, rev_date) VALUES (%s, %s, %s, %s, %s)\"\n",
    "        cursor.executemany(insert_statement, data)\n",
    "        cnx.commit()\n"
   ]
  },
  {
   "cell_type": "code",
   "execution_count": null,
   "metadata": {},
   "outputs": [],
   "source": []
  },
  {
   "cell_type": "code",
   "execution_count": 18,
   "metadata": {},
   "outputs": [
    {
     "name": "stdout",
     "output_type": "stream",
     "text": [
      "437 total matches found.\n"
     ]
    },
    {
     "ename": "TypeError",
     "evalue": "yelp_call_review() missing 1 required positional argument: 'parsed_id_results'",
     "output_type": "error",
     "traceback": [
      "\u001b[0;31m---------------------------------------------------------------------------\u001b[0m",
      "\u001b[0;31mTypeError\u001b[0m                                 Traceback (most recent call last)",
      "\u001b[0;32m<ipython-input-18-8e83f8c33f5c>\u001b[0m in \u001b[0;36m<module>\u001b[0;34m\u001b[0m\n\u001b[1;32m      7\u001b[0m     \u001b[0mresults\u001b[0m \u001b[0;34m=\u001b[0m \u001b[0myelp_call\u001b[0m\u001b[0;34m(\u001b[0m\u001b[0murl_params\u001b[0m\u001b[0;34m,\u001b[0m \u001b[0mapi_key\u001b[0m\u001b[0;34m)\u001b[0m\u001b[0;34m\u001b[0m\u001b[0;34m\u001b[0m\u001b[0m\n\u001b[1;32m      8\u001b[0m     \u001b[0mparsed_id_results\u001b[0m \u001b[0;34m=\u001b[0m \u001b[0mparse_id_results\u001b[0m\u001b[0;34m(\u001b[0m\u001b[0mresults\u001b[0m\u001b[0;34m)\u001b[0m\u001b[0;34m\u001b[0m\u001b[0;34m\u001b[0m\u001b[0m\n\u001b[0;32m----> 9\u001b[0;31m     \u001b[0mreview_results\u001b[0m \u001b[0;34m=\u001b[0m \u001b[0myelp_call_review\u001b[0m\u001b[0;34m(\u001b[0m\u001b[0mparsed_id_results\u001b[0m\u001b[0;34m)\u001b[0m\u001b[0;34m\u001b[0m\u001b[0;34m\u001b[0m\u001b[0m\n\u001b[0m\u001b[1;32m     10\u001b[0m     \u001b[0mparsed_review_results\u001b[0m \u001b[0;34m=\u001b[0m \u001b[0mparse_review_results\u001b[0m\u001b[0;34m(\u001b[0m\u001b[0mreview_results\u001b[0m\u001b[0;34m)\u001b[0m\u001b[0;34m\u001b[0m\u001b[0;34m\u001b[0m\u001b[0m\n\u001b[1;32m     11\u001b[0m     \u001b[0mdb_insert\u001b[0m\u001b[0;34m(\u001b[0m\u001b[0mparsed_review_results\u001b[0m\u001b[0;34m)\u001b[0m\u001b[0;34m\u001b[0m\u001b[0;34m\u001b[0m\u001b[0m\n",
      "\u001b[0;31mTypeError\u001b[0m: yelp_call_review() missing 1 required positional argument: 'parsed_id_results'"
     ]
    }
   ],
   "source": [
    "# num = response.json()['total']\n",
    "# print('{} total matches found.'.format(num))\n",
    "# cur = 0\n",
    "    \n",
    "# while cur < num and cur < 1000:\n",
    "#     url_params['offset'] = cur\n",
    "#     results = yelp_call(url_params, api_key)\n",
    "#     parsed_id_results = parse_id_results(results)\n",
    "#     review_results = yelp_call_review(parsed_id_results)\n",
    "#     parsed_review_results = parse_review_results(review_results)\n",
    "#     db_insert(parsed_review_results)\n",
    "#     time.sleep(3) #Wait a second\n",
    "#     cur = 50 + cur\n",
    "    "
   ]
  },
  {
   "cell_type": "code",
   "execution_count": null,
   "metadata": {},
   "outputs": [],
   "source": []
  }
 ],
 "metadata": {
  "kernelspec": {
   "display_name": "Python 3",
   "language": "python",
   "name": "python3"
  },
  "language_info": {
   "codemirror_mode": {
    "name": "ipython",
    "version": 3
   },
   "file_extension": ".py",
   "mimetype": "text/x-python",
   "name": "python",
   "nbconvert_exporter": "python",
   "pygments_lexer": "ipython3",
   "version": "3.7.3"
  }
 },
 "nbformat": 4,
 "nbformat_minor": 2
}
